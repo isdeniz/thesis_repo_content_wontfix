{
 "cells": [
  {
   "cell_type": "code",
   "execution_count": 1,
   "metadata": {},
   "outputs": [],
   "source": [
    "import requests\n",
    "import pandas as pd\n",
    "from datetime import datetime\n",
    "import time\n",
    "import numpy as np\n",
    "import matplotlib.pyplot as plt\n",
    "import seaborn as sns"
   ]
  },
  {
   "cell_type": "code",
   "execution_count": 2,
   "metadata": {},
   "outputs": [],
   "source": [
    "access_token='xxx' \n",
    "headers = {'Authorization':\"Token \"+access_token}"
   ]
  },
  {
   "cell_type": "code",
   "execution_count": 3,
   "metadata": {},
   "outputs": [],
   "source": [
    "# loop through all pages to obtain all issues information\n",
    "# label story point = 1\n",
    "page_num = 1\n",
    "issues_l=[]\n",
    "for page_num in range(1,30):\n",
    "    try:\n",
    "        # to find all the repos' names from each page\n",
    "        url = f\"https://api.github.com/search/issues?q=is:issue+archived:false+is:public+label:wontfix&page={page_num}\"\n",
    "        issue_l=requests.get(url,headers=headers).json()\n",
    "        issue_l2=issue_l['items']\n",
    "        issues_l.append(issue_l2)\n",
    "    except:\n",
    "        issues_l.append(None)"
   ]
  },
  {
   "cell_type": "code",
   "execution_count": 4,
   "metadata": {},
   "outputs": [
    {
     "data": {
      "text/plain": [
       "870"
      ]
     },
     "execution_count": 4,
     "metadata": {},
     "output_type": "execute_result"
    }
   ],
   "source": [
    "repository=[]\n",
    "for page in issues_l:\n",
    "    for issue_l2 in page:\n",
    "        try:\n",
    "            repository.append(issue_l2['repository_url'])\n",
    "        except:\n",
    "            pass\n",
    "\n",
    "len(repository)"
   ]
  },
  {
   "cell_type": "code",
   "execution_count": 5,
   "metadata": {},
   "outputs": [],
   "source": [
    "#repository"
   ]
  },
  {
   "cell_type": "code",
   "execution_count": 6,
   "metadata": {},
   "outputs": [],
   "source": [
    "repository_data=pd.DataFrame()\n",
    "repository_data['repo_url']=repository"
   ]
  },
  {
   "cell_type": "code",
   "execution_count": 7,
   "metadata": {},
   "outputs": [
    {
     "data": {
      "text/html": [
       "<div>\n",
       "<style scoped>\n",
       "    .dataframe tbody tr th:only-of-type {\n",
       "        vertical-align: middle;\n",
       "    }\n",
       "\n",
       "    .dataframe tbody tr th {\n",
       "        vertical-align: top;\n",
       "    }\n",
       "\n",
       "    .dataframe thead th {\n",
       "        text-align: right;\n",
       "    }\n",
       "</style>\n",
       "<table border=\"1\" class=\"dataframe\">\n",
       "  <thead>\n",
       "    <tr style=\"text-align: right;\">\n",
       "      <th></th>\n",
       "      <th>repo_url</th>\n",
       "    </tr>\n",
       "  </thead>\n",
       "  <tbody>\n",
       "    <tr>\n",
       "      <th>0</th>\n",
       "      <td>https://api.github.com/repos/saschaleib/dokuwi...</td>\n",
       "    </tr>\n",
       "    <tr>\n",
       "      <th>1</th>\n",
       "      <td>https://api.github.com/repos/akinsho/bufferlin...</td>\n",
       "    </tr>\n",
       "    <tr>\n",
       "      <th>2</th>\n",
       "      <td>https://api.github.com/repos/AlexCSDev/Patreon...</td>\n",
       "    </tr>\n",
       "    <tr>\n",
       "      <th>3</th>\n",
       "      <td>https://api.github.com/repos/cloudyspells/PSWa...</td>\n",
       "    </tr>\n",
       "    <tr>\n",
       "      <th>4</th>\n",
       "      <td>https://api.github.com/repos/pauloalbert/zelda...</td>\n",
       "    </tr>\n",
       "    <tr>\n",
       "      <th>...</th>\n",
       "      <td>...</td>\n",
       "    </tr>\n",
       "    <tr>\n",
       "      <th>865</th>\n",
       "      <td>https://api.github.com/repos/s-hit/s-hit.githu...</td>\n",
       "    </tr>\n",
       "    <tr>\n",
       "      <th>866</th>\n",
       "      <td>https://api.github.com/repos/Open-EO/openeo-pr...</td>\n",
       "    </tr>\n",
       "    <tr>\n",
       "      <th>867</th>\n",
       "      <td>https://api.github.com/repos/MrBrune01/Onoranz...</td>\n",
       "    </tr>\n",
       "    <tr>\n",
       "      <th>868</th>\n",
       "      <td>https://api.github.com/repos/kyma-project/life...</td>\n",
       "    </tr>\n",
       "    <tr>\n",
       "      <th>869</th>\n",
       "      <td>https://api.github.com/repos/Rivmun/FootprintP...</td>\n",
       "    </tr>\n",
       "  </tbody>\n",
       "</table>\n",
       "<p>870 rows × 1 columns</p>\n",
       "</div>"
      ],
      "text/plain": [
       "                                              repo_url\n",
       "0    https://api.github.com/repos/saschaleib/dokuwi...\n",
       "1    https://api.github.com/repos/akinsho/bufferlin...\n",
       "2    https://api.github.com/repos/AlexCSDev/Patreon...\n",
       "3    https://api.github.com/repos/cloudyspells/PSWa...\n",
       "4    https://api.github.com/repos/pauloalbert/zelda...\n",
       "..                                                 ...\n",
       "865  https://api.github.com/repos/s-hit/s-hit.githu...\n",
       "866  https://api.github.com/repos/Open-EO/openeo-pr...\n",
       "867  https://api.github.com/repos/MrBrune01/Onoranz...\n",
       "868  https://api.github.com/repos/kyma-project/life...\n",
       "869  https://api.github.com/repos/Rivmun/FootprintP...\n",
       "\n",
       "[870 rows x 1 columns]"
      ]
     },
     "execution_count": 7,
     "metadata": {},
     "output_type": "execute_result"
    }
   ],
   "source": [
    "repository_data"
   ]
  },
  {
   "cell_type": "code",
   "execution_count": 8,
   "metadata": {},
   "outputs": [
    {
     "data": {
      "text/plain": [
       "repo_url    https://api.github.com/repos/saschaleib/dokuwi...\n",
       "Name: 0, dtype: object"
      ]
     },
     "execution_count": 8,
     "metadata": {},
     "output_type": "execute_result"
    }
   ],
   "source": [
    "repository_data.iloc[0]"
   ]
  },
  {
   "cell_type": "code",
   "execution_count": 9,
   "metadata": {},
   "outputs": [
    {
     "data": {
      "text/html": [
       "<div>\n",
       "<style scoped>\n",
       "    .dataframe tbody tr th:only-of-type {\n",
       "        vertical-align: middle;\n",
       "    }\n",
       "\n",
       "    .dataframe tbody tr th {\n",
       "        vertical-align: top;\n",
       "    }\n",
       "\n",
       "    .dataframe thead th {\n",
       "        text-align: right;\n",
       "    }\n",
       "</style>\n",
       "<table border=\"1\" class=\"dataframe\">\n",
       "  <thead>\n",
       "    <tr style=\"text-align: right;\">\n",
       "      <th></th>\n",
       "      <th>0</th>\n",
       "      <th>1</th>\n",
       "      <th>2</th>\n",
       "      <th>3</th>\n",
       "      <th>4</th>\n",
       "    </tr>\n",
       "  </thead>\n",
       "  <tbody>\n",
       "    <tr>\n",
       "      <th>0</th>\n",
       "      <td>https:</td>\n",
       "      <td></td>\n",
       "      <td>api.github.com</td>\n",
       "      <td>repos</td>\n",
       "      <td>saschaleib/dokuwiki-plugin-adhoctags</td>\n",
       "    </tr>\n",
       "    <tr>\n",
       "      <th>1</th>\n",
       "      <td>https:</td>\n",
       "      <td></td>\n",
       "      <td>api.github.com</td>\n",
       "      <td>repos</td>\n",
       "      <td>akinsho/bufferline.nvim</td>\n",
       "    </tr>\n",
       "    <tr>\n",
       "      <th>2</th>\n",
       "      <td>https:</td>\n",
       "      <td></td>\n",
       "      <td>api.github.com</td>\n",
       "      <td>repos</td>\n",
       "      <td>AlexCSDev/PatreonDownloader</td>\n",
       "    </tr>\n",
       "    <tr>\n",
       "      <th>3</th>\n",
       "      <td>https:</td>\n",
       "      <td></td>\n",
       "      <td>api.github.com</td>\n",
       "      <td>repos</td>\n",
       "      <td>cloudyspells/PSWattTime</td>\n",
       "    </tr>\n",
       "    <tr>\n",
       "      <th>4</th>\n",
       "      <td>https:</td>\n",
       "      <td></td>\n",
       "      <td>api.github.com</td>\n",
       "      <td>repos</td>\n",
       "      <td>pauloalbert/zelda-datapack</td>\n",
       "    </tr>\n",
       "    <tr>\n",
       "      <th>...</th>\n",
       "      <td>...</td>\n",
       "      <td>...</td>\n",
       "      <td>...</td>\n",
       "      <td>...</td>\n",
       "      <td>...</td>\n",
       "    </tr>\n",
       "    <tr>\n",
       "      <th>865</th>\n",
       "      <td>https:</td>\n",
       "      <td></td>\n",
       "      <td>api.github.com</td>\n",
       "      <td>repos</td>\n",
       "      <td>s-hit/s-hit.github.io</td>\n",
       "    </tr>\n",
       "    <tr>\n",
       "      <th>866</th>\n",
       "      <td>https:</td>\n",
       "      <td></td>\n",
       "      <td>api.github.com</td>\n",
       "      <td>repos</td>\n",
       "      <td>Open-EO/openeo-processes</td>\n",
       "    </tr>\n",
       "    <tr>\n",
       "      <th>867</th>\n",
       "      <td>https:</td>\n",
       "      <td></td>\n",
       "      <td>api.github.com</td>\n",
       "      <td>repos</td>\n",
       "      <td>MrBrune01/OnoranzeStecca</td>\n",
       "    </tr>\n",
       "    <tr>\n",
       "      <th>868</th>\n",
       "      <td>https:</td>\n",
       "      <td></td>\n",
       "      <td>api.github.com</td>\n",
       "      <td>repos</td>\n",
       "      <td>kyma-project/lifecycle-manager</td>\n",
       "    </tr>\n",
       "    <tr>\n",
       "      <th>869</th>\n",
       "      <td>https:</td>\n",
       "      <td></td>\n",
       "      <td>api.github.com</td>\n",
       "      <td>repos</td>\n",
       "      <td>Rivmun/FootprintParticle</td>\n",
       "    </tr>\n",
       "  </tbody>\n",
       "</table>\n",
       "<p>870 rows × 5 columns</p>\n",
       "</div>"
      ],
      "text/plain": [
       "          0 1                2      3                                     4\n",
       "0    https:     api.github.com  repos  saschaleib/dokuwiki-plugin-adhoctags\n",
       "1    https:     api.github.com  repos               akinsho/bufferline.nvim\n",
       "2    https:     api.github.com  repos           AlexCSDev/PatreonDownloader\n",
       "3    https:     api.github.com  repos               cloudyspells/PSWattTime\n",
       "4    https:     api.github.com  repos            pauloalbert/zelda-datapack\n",
       "..      ... ..             ...    ...                                   ...\n",
       "865  https:     api.github.com  repos                 s-hit/s-hit.github.io\n",
       "866  https:     api.github.com  repos              Open-EO/openeo-processes\n",
       "867  https:     api.github.com  repos              MrBrune01/OnoranzeStecca\n",
       "868  https:     api.github.com  repos        kyma-project/lifecycle-manager\n",
       "869  https:     api.github.com  repos              Rivmun/FootprintParticle\n",
       "\n",
       "[870 rows x 5 columns]"
      ]
     },
     "execution_count": 9,
     "metadata": {},
     "output_type": "execute_result"
    }
   ],
   "source": [
    "repository_data_name = repository_data[\"repo_url\"].str.split(\"/\", n = 4, expand = True)\n",
    "repository_data_name"
   ]
  },
  {
   "cell_type": "code",
   "execution_count": 10,
   "metadata": {},
   "outputs": [
    {
     "data": {
      "text/html": [
       "<div>\n",
       "<style scoped>\n",
       "    .dataframe tbody tr th:only-of-type {\n",
       "        vertical-align: middle;\n",
       "    }\n",
       "\n",
       "    .dataframe tbody tr th {\n",
       "        vertical-align: top;\n",
       "    }\n",
       "\n",
       "    .dataframe thead th {\n",
       "        text-align: right;\n",
       "    }\n",
       "</style>\n",
       "<table border=\"1\" class=\"dataframe\">\n",
       "  <thead>\n",
       "    <tr style=\"text-align: right;\">\n",
       "      <th></th>\n",
       "      <th>4</th>\n",
       "    </tr>\n",
       "  </thead>\n",
       "  <tbody>\n",
       "    <tr>\n",
       "      <th>0</th>\n",
       "      <td>saschaleib/dokuwiki-plugin-adhoctags</td>\n",
       "    </tr>\n",
       "    <tr>\n",
       "      <th>1</th>\n",
       "      <td>akinsho/bufferline.nvim</td>\n",
       "    </tr>\n",
       "    <tr>\n",
       "      <th>2</th>\n",
       "      <td>AlexCSDev/PatreonDownloader</td>\n",
       "    </tr>\n",
       "    <tr>\n",
       "      <th>3</th>\n",
       "      <td>cloudyspells/PSWattTime</td>\n",
       "    </tr>\n",
       "    <tr>\n",
       "      <th>4</th>\n",
       "      <td>pauloalbert/zelda-datapack</td>\n",
       "    </tr>\n",
       "    <tr>\n",
       "      <th>...</th>\n",
       "      <td>...</td>\n",
       "    </tr>\n",
       "    <tr>\n",
       "      <th>865</th>\n",
       "      <td>s-hit/s-hit.github.io</td>\n",
       "    </tr>\n",
       "    <tr>\n",
       "      <th>866</th>\n",
       "      <td>Open-EO/openeo-processes</td>\n",
       "    </tr>\n",
       "    <tr>\n",
       "      <th>867</th>\n",
       "      <td>MrBrune01/OnoranzeStecca</td>\n",
       "    </tr>\n",
       "    <tr>\n",
       "      <th>868</th>\n",
       "      <td>kyma-project/lifecycle-manager</td>\n",
       "    </tr>\n",
       "    <tr>\n",
       "      <th>869</th>\n",
       "      <td>Rivmun/FootprintParticle</td>\n",
       "    </tr>\n",
       "  </tbody>\n",
       "</table>\n",
       "<p>637 rows × 1 columns</p>\n",
       "</div>"
      ],
      "text/plain": [
       "                                        4\n",
       "0    saschaleib/dokuwiki-plugin-adhoctags\n",
       "1                 akinsho/bufferline.nvim\n",
       "2             AlexCSDev/PatreonDownloader\n",
       "3                 cloudyspells/PSWattTime\n",
       "4              pauloalbert/zelda-datapack\n",
       "..                                    ...\n",
       "865                 s-hit/s-hit.github.io\n",
       "866              Open-EO/openeo-processes\n",
       "867              MrBrune01/OnoranzeStecca\n",
       "868        kyma-project/lifecycle-manager\n",
       "869              Rivmun/FootprintParticle\n",
       "\n",
       "[637 rows x 1 columns]"
      ]
     },
     "execution_count": 10,
     "metadata": {},
     "output_type": "execute_result"
    }
   ],
   "source": [
    "repository_data_name.drop(columns=repository_data_name.columns[0], axis=1, inplace=True)\n",
    "repository_data_name.drop(columns=repository_data_name.columns[0], axis=1, inplace=True)\n",
    "repository_data_name.drop(columns=repository_data_name.columns[0], axis=1, inplace=True)\n",
    "repository_data_name.drop(columns=repository_data_name.columns[0], axis=1, inplace=True)\n",
    "repository_data_name = repository_data_name.drop_duplicates()\n",
    "repository_data_name"
   ]
  },
  {
   "cell_type": "code",
   "execution_count": 11,
   "metadata": {},
   "outputs": [],
   "source": [
    "#pip install gitpython"
   ]
  },
  {
   "cell_type": "code",
   "execution_count": 12,
   "metadata": {},
   "outputs": [],
   "source": [
    "from git.repo.base import Repo"
   ]
  },
  {
   "cell_type": "code",
   "execution_count": 13,
   "metadata": {},
   "outputs": [
    {
     "name": "stdout",
     "output_type": "stream",
     "text": [
      "0\n",
      "1\n",
      "2\n",
      "3\n",
      "4\n",
      "5\n",
      "6\n",
      "7\n",
      "8\n",
      "9\n",
      "10\n",
      "11\n",
      "12\n",
      "13\n",
      "14\n",
      "15\n",
      "16\n",
      "17\n",
      "18\n",
      "19\n",
      "20\n",
      "21\n",
      "22\n",
      "23\n",
      "24\n",
      "25\n",
      "26\n",
      "27\n",
      "28\n",
      "29\n",
      "30\n"
     ]
    }
   ],
   "source": [
    "c = 0\n",
    "for r in range(repository_data_name.shape[0]):\n",
    "        repository_i = repository_data_name.iloc[r,0]\n",
    "        Repo.clone_from(f\"https://github.com/{repository_i}\",f\"/Users/selincaglar/{c}\")\n",
    "        print(c)\n",
    "        c = c + 1\n"
   ]
  },
  {
   "cell_type": "code",
   "execution_count": null,
   "metadata": {},
   "outputs": [],
   "source": []
  }
 ],
 "metadata": {
  "kernelspec": {
   "display_name": "Python 3",
   "language": "python",
   "name": "python3"
  },
  "language_info": {
   "codemirror_mode": {
    "name": "ipython",
    "version": 3
   },
   "file_extension": ".py",
   "mimetype": "text/x-python",
   "name": "python",
   "nbconvert_exporter": "python",
   "pygments_lexer": "ipython3",
   "version": "3.9.0"
  },
  "orig_nbformat": 4
 },
 "nbformat": 4,
 "nbformat_minor": 2
}
